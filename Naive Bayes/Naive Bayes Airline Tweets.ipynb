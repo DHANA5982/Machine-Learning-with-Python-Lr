{
 "cells": [
  {
   "cell_type": "markdown",
   "id": "8d54d444-8a4f-49d1-8c1c-bb15c770670e",
   "metadata": {},
   "source": [
    "# Naive Bayes Classification - Airline Tweets"
   ]
  },
  {
   "cell_type": "code",
   "execution_count": 1,
   "id": "6d7c25ed-a7da-4b27-a88c-556f664b7542",
   "metadata": {},
   "outputs": [],
   "source": [
    "import numpy as np\n",
    "import pandas as pd\n",
    "import matplotlib.pyplot as plt\n",
    "import seaborn as sns"
   ]
  },
  {
   "cell_type": "code",
   "execution_count": null,
   "id": "e3a0a734-2a9d-4dfb-81a4-3405d64f9598",
   "metadata": {},
   "outputs": [],
   "source": [
    "df = pd.read_csv('../DATA/airline_tweets.csv')"
   ]
  }
 ],
 "metadata": {
  "kernelspec": {
   "display_name": "Python 3 (ipykernel)",
   "language": "python",
   "name": "python3"
  },
  "language_info": {
   "codemirror_mode": {
    "name": "ipython",
    "version": 3
   },
   "file_extension": ".py",
   "mimetype": "text/x-python",
   "name": "python",
   "nbconvert_exporter": "python",
   "pygments_lexer": "ipython3",
   "version": "3.13.1"
  }
 },
 "nbformat": 4,
 "nbformat_minor": 5
}
