{
 "cells": [
  {
   "cell_type": "markdown",
   "id": "05dd6a73-5ec2-43bf-9461-4c0fd8f73bfb",
   "metadata": {},
   "source": [
    "# Manual Method\n"
   ]
  },
  {
   "cell_type": "code",
   "execution_count": 1,
   "id": "9b337b7d-5086-4f8b-8bd5-8bb9b8aae862",
   "metadata": {},
   "outputs": [],
   "source": [
    "with open('../DATA/One.txt') as mytext:\n",
    "    first_txt = mytext.read().lower().split()\n",
    "    uni_words_one = set(first_txt)"
   ]
  },
  {
   "cell_type": "code",
   "execution_count": 2,
   "id": "54b870e0-f49c-49bd-8c98-08d9615ba957",
   "metadata": {},
   "outputs": [
    {
     "data": {
      "text/plain": [
       "{'a',\n",
       " 'about',\n",
       " 'animals',\n",
       " 'are',\n",
       " 'canine',\n",
       " 'dogs',\n",
       " 'furry',\n",
       " 'is',\n",
       " 'our',\n",
       " 'pets',\n",
       " 'story',\n",
       " 'this'}"
      ]
     },
     "execution_count": 2,
     "metadata": {},
     "output_type": "execute_result"
    }
   ],
   "source": [
    "uni_words_one"
   ]
  },
  {
   "cell_type": "code",
   "execution_count": 3,
   "id": "3d6b1ab6-7219-4d85-97a7-93b27eb66767",
   "metadata": {},
   "outputs": [],
   "source": [
    "with open('../DATA/Two.txt') as text2:\n",
    "    second_txt = text2.read().lower().split()\n",
    "    uni_words_two = set(second_txt)"
   ]
  },
  {
   "cell_type": "code",
   "execution_count": 4,
   "id": "906871fd-a080-4895-8c83-2e4ce4e54374",
   "metadata": {},
   "outputs": [
    {
     "data": {
      "text/plain": [
       "{'a',\n",
       " 'about',\n",
       " 'catching',\n",
       " 'fun',\n",
       " 'is',\n",
       " 'popular',\n",
       " 'sport',\n",
       " 'story',\n",
       " 'surfing',\n",
       " 'this',\n",
       " 'water',\n",
       " 'waves'}"
      ]
     },
     "execution_count": 4,
     "metadata": {},
     "output_type": "execute_result"
    }
   ],
   "source": [
    "uni_words_two"
   ]
  },
  {
   "cell_type": "code",
   "execution_count": 5,
   "id": "af45f59c-d183-4793-a211-a2986f496519",
   "metadata": {},
   "outputs": [],
   "source": [
    "all_uni_words = set()\n",
    "all_uni_words.update(uni_words_one)\n",
    "all_uni_words.update(uni_words_two)"
   ]
  },
  {
   "cell_type": "code",
   "execution_count": 6,
   "id": "ae7d0b29-0dea-4b7b-b07b-4579cc336c71",
   "metadata": {},
   "outputs": [
    {
     "data": {
      "text/plain": [
       "{'a',\n",
       " 'about',\n",
       " 'animals',\n",
       " 'are',\n",
       " 'canine',\n",
       " 'catching',\n",
       " 'dogs',\n",
       " 'fun',\n",
       " 'furry',\n",
       " 'is',\n",
       " 'our',\n",
       " 'pets',\n",
       " 'popular',\n",
       " 'sport',\n",
       " 'story',\n",
       " 'surfing',\n",
       " 'this',\n",
       " 'water',\n",
       " 'waves'}"
      ]
     },
     "execution_count": 6,
     "metadata": {},
     "output_type": "execute_result"
    }
   ],
   "source": [
    "all_uni_words"
   ]
  },
  {
   "cell_type": "code",
   "execution_count": 7,
   "id": "97d04a72-c4b8-461e-8fbc-e359cc206e36",
   "metadata": {},
   "outputs": [],
   "source": [
    "full_vocab = dict()\n",
    "i = 0\n",
    "\n",
    "for word in all_uni_words:\n",
    "    full_vocab[word] = i\n",
    "    i += 1"
   ]
  },
  {
   "cell_type": "code",
   "execution_count": 8,
   "id": "2cbb1420-2827-4975-af44-a2e5e9a9bb5e",
   "metadata": {},
   "outputs": [
    {
     "data": {
      "text/plain": [
       "{'is': 0,\n",
       " 'story': 1,\n",
       " 'waves': 2,\n",
       " 'a': 3,\n",
       " 'sport': 4,\n",
       " 'furry': 5,\n",
       " 'fun': 6,\n",
       " 'are': 7,\n",
       " 'water': 8,\n",
       " 'about': 9,\n",
       " 'our': 10,\n",
       " 'canine': 11,\n",
       " 'surfing': 12,\n",
       " 'pets': 13,\n",
       " 'dogs': 14,\n",
       " 'animals': 15,\n",
       " 'popular': 16,\n",
       " 'catching': 17,\n",
       " 'this': 18}"
      ]
     },
     "execution_count": 8,
     "metadata": {},
     "output_type": "execute_result"
    }
   ],
   "source": [
    "full_vocab"
   ]
  },
  {
   "cell_type": "code",
   "execution_count": 9,
   "id": "363d214b-10f6-47f8-b14c-2e9e7d7e5890",
   "metadata": {},
   "outputs": [],
   "source": [
    "one_freq = [0] * len(full_vocab)\n",
    "two_freq = [0] * len(full_vocab)\n",
    "all_words = [''] * len(full_vocab)"
   ]
  },
  {
   "cell_type": "code",
   "execution_count": 10,
   "id": "253819f7-8b9d-4b33-ab33-7439eeb697fd",
   "metadata": {},
   "outputs": [],
   "source": [
    "with open('../DATA/One.txt') as f:\n",
    "    one_text = f.read().lower().split()"
   ]
  },
  {
   "cell_type": "code",
   "execution_count": 11,
   "id": "4980825b-5416-4cc5-aa66-326dd95510ad",
   "metadata": {},
   "outputs": [],
   "source": [
    "for word in one_text:\n",
    "    word_ind = full_vocab[word]\n",
    "    one_freq[word_ind] += 1"
   ]
  },
  {
   "cell_type": "code",
   "execution_count": 12,
   "id": "869cb7b6-8b2f-4258-b96b-bd0950ba5686",
   "metadata": {},
   "outputs": [
    {
     "data": {
      "text/plain": [
       "[1, 1, 0, 1, 0, 1, 0, 1, 0, 1, 1, 1, 0, 1, 2, 1, 0, 0, 1]"
      ]
     },
     "execution_count": 12,
     "metadata": {},
     "output_type": "execute_result"
    }
   ],
   "source": [
    "one_freq"
   ]
  },
  {
   "cell_type": "code",
   "execution_count": 13,
   "id": "f0932164-af26-46b6-8644-90ae2f7a75b6",
   "metadata": {},
   "outputs": [],
   "source": [
    "with open('../DATA/Two.txt') as f:\n",
    "    two_text = f.read().lower().split()"
   ]
  },
  {
   "cell_type": "code",
   "execution_count": 14,
   "id": "de0c5adc-06f5-4963-86a8-cdea763d6f13",
   "metadata": {},
   "outputs": [],
   "source": [
    "for word in two_text:\n",
    "    word_ind = full_vocab[word]\n",
    "    two_freq[word_ind] += 1"
   ]
  },
  {
   "cell_type": "code",
   "execution_count": 15,
   "id": "d950226a-ce21-4e1c-a1fa-f165bf315914",
   "metadata": {},
   "outputs": [
    {
     "data": {
      "text/plain": [
       "[3, 1, 1, 1, 1, 0, 1, 0, 1, 1, 0, 0, 2, 0, 0, 0, 1, 1, 1]"
      ]
     },
     "execution_count": 15,
     "metadata": {},
     "output_type": "execute_result"
    }
   ],
   "source": [
    "two_freq"
   ]
  },
  {
   "cell_type": "code",
   "execution_count": 16,
   "id": "859ae78e-2ae1-4c60-9c74-a153f5181259",
   "metadata": {},
   "outputs": [],
   "source": [
    "for word in full_vocab:\n",
    "    index = full_vocab[word]\n",
    "    all_words[index] = word"
   ]
  },
  {
   "cell_type": "code",
   "execution_count": 17,
   "id": "d2a42c24-c36b-4298-aeee-fa12cca29064",
   "metadata": {},
   "outputs": [
    {
     "data": {
      "text/plain": [
       "['is',\n",
       " 'story',\n",
       " 'waves',\n",
       " 'a',\n",
       " 'sport',\n",
       " 'furry',\n",
       " 'fun',\n",
       " 'are',\n",
       " 'water',\n",
       " 'about',\n",
       " 'our',\n",
       " 'canine',\n",
       " 'surfing',\n",
       " 'pets',\n",
       " 'dogs',\n",
       " 'animals',\n",
       " 'popular',\n",
       " 'catching',\n",
       " 'this']"
      ]
     },
     "execution_count": 17,
     "metadata": {},
     "output_type": "execute_result"
    }
   ],
   "source": [
    "all_words"
   ]
  },
  {
   "cell_type": "code",
   "execution_count": 18,
   "id": "8be3a277-216a-4676-bdc2-f5dba5050087",
   "metadata": {},
   "outputs": [],
   "source": [
    "import pandas as pd\n",
    "vec = pd.DataFrame(data= [one_freq, two_freq], columns= all_words)"
   ]
  },
  {
   "cell_type": "code",
   "execution_count": 19,
   "id": "1b5381bc-e711-470d-b70f-5b5fe7877252",
   "metadata": {},
   "outputs": [
    {
     "data": {
      "text/html": [
       "<div>\n",
       "<style scoped>\n",
       "    .dataframe tbody tr th:only-of-type {\n",
       "        vertical-align: middle;\n",
       "    }\n",
       "\n",
       "    .dataframe tbody tr th {\n",
       "        vertical-align: top;\n",
       "    }\n",
       "\n",
       "    .dataframe thead th {\n",
       "        text-align: right;\n",
       "    }\n",
       "</style>\n",
       "<table border=\"1\" class=\"dataframe\">\n",
       "  <thead>\n",
       "    <tr style=\"text-align: right;\">\n",
       "      <th></th>\n",
       "      <th>is</th>\n",
       "      <th>story</th>\n",
       "      <th>waves</th>\n",
       "      <th>a</th>\n",
       "      <th>sport</th>\n",
       "      <th>furry</th>\n",
       "      <th>fun</th>\n",
       "      <th>are</th>\n",
       "      <th>water</th>\n",
       "      <th>about</th>\n",
       "      <th>our</th>\n",
       "      <th>canine</th>\n",
       "      <th>surfing</th>\n",
       "      <th>pets</th>\n",
       "      <th>dogs</th>\n",
       "      <th>animals</th>\n",
       "      <th>popular</th>\n",
       "      <th>catching</th>\n",
       "      <th>this</th>\n",
       "    </tr>\n",
       "  </thead>\n",
       "  <tbody>\n",
       "    <tr>\n",
       "      <th>0</th>\n",
       "      <td>1</td>\n",
       "      <td>1</td>\n",
       "      <td>0</td>\n",
       "      <td>1</td>\n",
       "      <td>0</td>\n",
       "      <td>1</td>\n",
       "      <td>0</td>\n",
       "      <td>1</td>\n",
       "      <td>0</td>\n",
       "      <td>1</td>\n",
       "      <td>1</td>\n",
       "      <td>1</td>\n",
       "      <td>0</td>\n",
       "      <td>1</td>\n",
       "      <td>2</td>\n",
       "      <td>1</td>\n",
       "      <td>0</td>\n",
       "      <td>0</td>\n",
       "      <td>1</td>\n",
       "    </tr>\n",
       "    <tr>\n",
       "      <th>1</th>\n",
       "      <td>3</td>\n",
       "      <td>1</td>\n",
       "      <td>1</td>\n",
       "      <td>1</td>\n",
       "      <td>1</td>\n",
       "      <td>0</td>\n",
       "      <td>1</td>\n",
       "      <td>0</td>\n",
       "      <td>1</td>\n",
       "      <td>1</td>\n",
       "      <td>0</td>\n",
       "      <td>0</td>\n",
       "      <td>2</td>\n",
       "      <td>0</td>\n",
       "      <td>0</td>\n",
       "      <td>0</td>\n",
       "      <td>1</td>\n",
       "      <td>1</td>\n",
       "      <td>1</td>\n",
       "    </tr>\n",
       "  </tbody>\n",
       "</table>\n",
       "</div>"
      ],
      "text/plain": [
       "   is  story  waves  a  sport  furry  fun  are  water  about  our  canine  \\\n",
       "0   1      1      0  1      0      1    0    1      0      1    1       1   \n",
       "1   3      1      1  1      1      0    1    0      1      1    0       0   \n",
       "\n",
       "   surfing  pets  dogs  animals  popular  catching  this  \n",
       "0        0     1     2        1        0         0     1  \n",
       "1        2     0     0        0        1         1     1  "
      ]
     },
     "execution_count": 19,
     "metadata": {},
     "output_type": "execute_result"
    }
   ],
   "source": [
    "vec"
   ]
  },
  {
   "cell_type": "markdown",
   "id": "a3f16390-6a83-4269-8084-85f94d264ab5",
   "metadata": {},
   "source": [
    "# Scikit-Learn"
   ]
  },
  {
   "cell_type": "code",
   "execution_count": 20,
   "id": "c2a05804-ca23-457e-9322-5a64ffd29185",
   "metadata": {},
   "outputs": [],
   "source": [
    "text = ['This is a line',\n",
    "        'This is another line',\n",
    "        'Completely different line']"
   ]
  },
  {
   "cell_type": "code",
   "execution_count": 31,
   "id": "2325215c-bd50-4279-84df-a9211fa9e77e",
   "metadata": {},
   "outputs": [],
   "source": [
    "from sklearn.feature_extraction.text import CountVectorizer, TfidfTransformer"
   ]
  },
  {
   "cell_type": "code",
   "execution_count": 33,
   "id": "8e24c61d-db20-4492-8d90-6e55168f23ed",
   "metadata": {},
   "outputs": [],
   "source": [
    "cv = CountVectorizer()"
   ]
  },
  {
   "cell_type": "code",
   "execution_count": 34,
   "id": "ffa1bf8a-e3c9-4c94-8405-479049cb7b22",
   "metadata": {},
   "outputs": [],
   "source": [
    "matrix = cv.fit_transform(text)"
   ]
  },
  {
   "cell_type": "code",
   "execution_count": 35,
   "id": "5f984972-a67d-43bb-b63a-7a884ec28ae4",
   "metadata": {},
   "outputs": [
    {
     "data": {
      "text/plain": [
       "matrix([[0, 0, 0, 1, 1, 1],\n",
       "        [1, 0, 0, 1, 1, 1],\n",
       "        [0, 1, 1, 0, 1, 0]])"
      ]
     },
     "execution_count": 35,
     "metadata": {},
     "output_type": "execute_result"
    }
   ],
   "source": [
    "matrix.todense()"
   ]
  },
  {
   "cell_type": "code",
   "execution_count": 36,
   "id": "020a4b2f-abdb-4af7-a820-7c21c543e4f2",
   "metadata": {},
   "outputs": [
    {
     "data": {
      "text/plain": [
       "{'this': 5, 'is': 3, 'line': 4, 'another': 0, 'completely': 1, 'different': 2}"
      ]
     },
     "execution_count": 36,
     "metadata": {},
     "output_type": "execute_result"
    }
   ],
   "source": [
    "cv.vocabulary_"
   ]
  },
  {
   "cell_type": "code",
   "execution_count": 38,
   "id": "7995ece2-423d-41ec-846d-969363720d8b",
   "metadata": {},
   "outputs": [],
   "source": [
    "tfidf = TfidfTransformer()"
   ]
  },
  {
   "cell_type": "code",
   "execution_count": 40,
   "id": "b054197c-45af-4822-93e0-92892e6ca746",
   "metadata": {},
   "outputs": [],
   "source": [
    "matrix2 =tfidf.fit_transform(matrix)"
   ]
  },
  {
   "cell_type": "code",
   "execution_count": 41,
   "id": "767f9c68-01e5-4c65-ba65-7ffcabbd37d1",
   "metadata": {},
   "outputs": [
    {
     "data": {
      "text/plain": [
       "matrix([[0.        , 0.        , 0.        , 0.61980538, 0.48133417,\n",
       "         0.61980538],\n",
       "        [0.63174505, 0.        , 0.        , 0.4804584 , 0.37311881,\n",
       "         0.4804584 ],\n",
       "        [0.        , 0.65249088, 0.65249088, 0.        , 0.38537163,\n",
       "         0.        ]])"
      ]
     },
     "execution_count": 41,
     "metadata": {},
     "output_type": "execute_result"
    }
   ],
   "source": [
    "matrix2.todense()"
   ]
  },
  {
   "cell_type": "code",
   "execution_count": 42,
   "id": "36b91a32-b893-48bd-8d7c-ae00d0e74c2b",
   "metadata": {},
   "outputs": [],
   "source": [
    "from sklearn.feature_extraction.text import TfidfVectorizer"
   ]
  },
  {
   "cell_type": "code",
   "execution_count": 49,
   "id": "dc97249d-49e7-4259-b96f-29627972f6fa",
   "metadata": {},
   "outputs": [],
   "source": [
    "tv = TfidfVectorizer()"
   ]
  },
  {
   "cell_type": "code",
   "execution_count": 50,
   "id": "b8f4f414-3c45-4a50-8abc-2a0a97133046",
   "metadata": {},
   "outputs": [],
   "source": [
    "tv_matrix = tv.fit_transform(text)"
   ]
  },
  {
   "cell_type": "code",
   "execution_count": 51,
   "id": "6d39a828-a6a5-4e64-8fa0-7a3fb4b67e03",
   "metadata": {},
   "outputs": [
    {
     "data": {
      "text/plain": [
       "<Compressed Sparse Row sparse matrix of dtype 'float64'\n",
       "\twith 10 stored elements and shape (3, 6)>"
      ]
     },
     "execution_count": 51,
     "metadata": {},
     "output_type": "execute_result"
    }
   ],
   "source": [
    "tv_matrix"
   ]
  },
  {
   "cell_type": "code",
   "execution_count": 52,
   "id": "280624b1-0e9c-4533-9624-f2a111cdd414",
   "metadata": {},
   "outputs": [
    {
     "data": {
      "text/plain": [
       "matrix([[0.        , 0.        , 0.        , 0.61980538, 0.48133417,\n",
       "         0.61980538],\n",
       "        [0.63174505, 0.        , 0.        , 0.4804584 , 0.37311881,\n",
       "         0.4804584 ],\n",
       "        [0.        , 0.65249088, 0.65249088, 0.        , 0.38537163,\n",
       "         0.        ]])"
      ]
     },
     "execution_count": 52,
     "metadata": {},
     "output_type": "execute_result"
    }
   ],
   "source": [
    "tv_matrix.todense()"
   ]
  },
  {
   "cell_type": "code",
   "execution_count": 53,
   "id": "73920139-06f3-44dd-9302-b65f39ca3656",
   "metadata": {},
   "outputs": [
    {
     "data": {
      "text/plain": [
       "{'this': 5, 'is': 3, 'line': 4, 'another': 0, 'completely': 1, 'different': 2}"
      ]
     },
     "execution_count": 53,
     "metadata": {},
     "output_type": "execute_result"
    }
   ],
   "source": [
    "tv.vocabulary_"
   ]
  },
  {
   "cell_type": "code",
   "execution_count": null,
   "id": "981f5617-b3c7-4179-9b2b-1f428ff1dbc9",
   "metadata": {},
   "outputs": [],
   "source": []
  }
 ],
 "metadata": {
  "kernelspec": {
   "display_name": "Python 3 (ipykernel)",
   "language": "python",
   "name": "python3"
  },
  "language_info": {
   "codemirror_mode": {
    "name": "ipython",
    "version": 3
   },
   "file_extension": ".py",
   "mimetype": "text/x-python",
   "name": "python",
   "nbconvert_exporter": "python",
   "pygments_lexer": "ipython3",
   "version": "3.13.1"
  }
 },
 "nbformat": 4,
 "nbformat_minor": 5
}
